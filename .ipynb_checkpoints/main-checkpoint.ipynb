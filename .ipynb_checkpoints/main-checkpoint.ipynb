{
 "cells": [
  {
   "cell_type": "code",
   "execution_count": 2,
   "id": "initial_id",
   "metadata": {
    "collapsed": true,
    "ExecuteTime": {
     "end_time": "2024-02-12T16:05:14.947254100Z",
     "start_time": "2024-02-12T16:05:14.910663Z"
    }
   },
   "outputs": [],
   "source": [
    "name = 'habib'"
   ]
  },
  {
   "cell_type": "code",
   "outputs": [
    {
     "data": {
      "text/plain": "'habib'"
     },
     "execution_count": 4,
     "metadata": {},
     "output_type": "execute_result"
    }
   ],
   "source": [
    "name"
   ],
   "metadata": {
    "collapsed": false,
    "ExecuteTime": {
     "end_time": "2024-02-12T16:05:24.545079300Z",
     "start_time": "2024-02-12T16:05:24.513777800Z"
    }
   },
   "id": "4f9181b3bd3ecad1",
   "execution_count": 4
  },
  {
   "cell_type": "code",
   "outputs": [],
   "source": [
    "# This is a simple comment"
   ],
   "metadata": {
    "collapsed": false,
    "ExecuteTime": {
     "end_time": "2024-02-12T16:06:30.707762300Z",
     "start_time": "2024-02-12T16:06:30.677838500Z"
    }
   },
   "id": "57eba802851886b4",
   "execution_count": 6
  },
  {
   "cell_type": "code",
   "outputs": [],
   "source": [],
   "metadata": {
    "collapsed": false
   },
   "id": "a9a0116400091b75"
  },
  {
   "cell_type": "markdown",
   "source": [],
   "metadata": {
    "collapsed": false
   },
   "id": "9ce86148e781753f"
  },
  {
   "cell_type": "markdown",
   "source": [
    "## This is a python class"
   ],
   "metadata": {
    "collapsed": false
   },
   "id": "e6e96d03583c09cc"
  },
  {
   "cell_type": "code",
   "outputs": [],
   "source": [
    "name = input('What is your name? ')"
   ],
   "metadata": {
    "collapsed": false,
    "ExecuteTime": {
     "end_time": "2024-02-12T16:15:46.724395900Z",
     "start_time": "2024-02-12T16:14:56.026249900Z"
    }
   },
   "id": "e08750dc77b5dc41",
   "execution_count": 7
  }
 ],
 "metadata": {
  "kernelspec": {
   "display_name": "Python 3",
   "language": "python",
   "name": "python3"
  },
  "language_info": {
   "codemirror_mode": {
    "name": "ipython",
    "version": 2
   },
   "file_extension": ".py",
   "mimetype": "text/x-python",
   "name": "python",
   "nbconvert_exporter": "python",
   "pygments_lexer": "ipython2",
   "version": "2.7.6"
  }
 },
 "nbformat": 4,
 "nbformat_minor": 5
}
